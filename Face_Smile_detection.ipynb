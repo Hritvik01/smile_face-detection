{
 "cells": [
  {
   "cell_type": "code",
   "execution_count": null,
   "metadata": {},
   "outputs": [],
   "source": [
    "#to detect your face\n",
    "import cv2\n",
    "cap=cv2.VideoCapture(0)\n",
    "face_model=cv2.CascadeClassifier(\"haarcascade_frontalface_default.xml\")\n",
    "while True:\n",
    "    ret,photo=cap.read()\n",
    "    coord=face_model.detectMultiScale(photo)\n",
    "    if len(coord) ==1:\n",
    "        x1=coord[0][0]\n",
    "        y1=coord[0][1]\n",
    "        x2=coord[0][0] + coord[0][2]\n",
    "        y2=coord[0][1] + coord[0][3]\n",
    "        photo=cv2.rectangle(photo,(x1,y1),(x2,y2),(0,255,0),2)\n",
    "        cv2.imshow('hi',photo)\n",
    "        if cv2.waitKey(1) ==13:\n",
    "            break\n",
    "cv2.destroyAllWindows()\n",
    "cap.release()"
   ]
  },
  {
   "cell_type": "code",
   "execution_count": null,
   "metadata": {},
   "outputs": [],
   "source": [
    "#to detect face and smile\n",
    "import cv2\n",
    "cap=cv2.VideoCapture(0)\n",
    "face_model=cv2.CascadeClassifier(\"haarcascade_frontalface_default.xml\")\n",
    "smile_model=cv2.CascadeClassifier(\"haarcascade_smile.xml\")\n",
    "while True:\n",
    "    ret,photo=cap.read()\n",
    "    print(\"You are having a nice ,have funnnnn\")\n",
    "    gray=cv2.cvtColor(photo,cv2.COLOR_BGR2GRAY)\n",
    "    detect_face=face_model.detectMultiScale(gray)\n",
    "    for (fx,fy,fw,fh) in detect_face :\n",
    "        cv2.rectangle(photo,(fx,fy),(fx+fw,fy+fh),(0,255,0),2)\n",
    "        face_gray=gray[fy:fy + fh,fx:fx + fw]\n",
    "        face_color=photo[fy:fy + fh,fx:fx + fw]\n",
    "        detect_smile=smile_model.detectMultiScale(face_gray)\n",
    "        for (sx,sy,sw,sh) in detect_smile:\n",
    "            cv2.rectangle(face_color,(sx,sy),(sx+sw,sy+sh),(0,255,0),2)\n",
    "    cv2.imshow(\"hiii\",photo)\n",
    "    if cv2.waitKey(1)==13:\n",
    "        break\n",
    "cap.release()\n",
    "cv2.destroyAllWindows()"
   ]
  },
  {
   "cell_type": "code",
   "execution_count": null,
   "metadata": {},
   "outputs": [],
   "source": [
    "cv2.rectangle(photo,(100,200),(400,350),(0,255,0),2)"
   ]
  },
  {
   "cell_type": "code",
   "execution_count": null,
   "metadata": {},
   "outputs": [],
   "source": [
    "photo"
   ]
  },
  {
   "cell_type": "code",
   "execution_count": null,
   "metadata": {},
   "outputs": [],
   "source": [
    "cap=cv2.VideoCapture(0)"
   ]
  },
  {
   "cell_type": "code",
   "execution_count": null,
   "metadata": {},
   "outputs": [],
   "source": [
    "ret,pic=cap.read()"
   ]
  },
  {
   "cell_type": "code",
   "execution_count": null,
   "metadata": {},
   "outputs": [],
   "source": [
    "cv2.imshow(\"f.png\",pic)\n",
    "cv2.waitKey()\n",
    "cv2.destroyAllWindows()"
   ]
  },
  {
   "cell_type": "code",
   "execution_count": null,
   "metadata": {},
   "outputs": [],
   "source": [
    "cap.release()"
   ]
  },
  {
   "cell_type": "code",
   "execution_count": null,
   "metadata": {},
   "outputs": [],
   "source": [
    "face_model=cv2.CascadeClassifier('haarcascade_frontalface_default.xml')"
   ]
  },
  {
   "cell_type": "code",
   "execution_count": null,
   "metadata": {},
   "outputs": [],
   "source": [
    "coord=face_model.detectMultiScale(pic)"
   ]
  },
  {
   "cell_type": "code",
   "execution_count": null,
   "metadata": {},
   "outputs": [],
   "source": [
    "x1=coord[1][1]"
   ]
  },
  {
   "cell_type": "code",
   "execution_count": null,
   "metadata": {},
   "outputs": [],
   "source": []
  }
 ],
 "metadata": {
  "kernelspec": {
   "display_name": "Python 3",
   "language": "python",
   "name": "python3"
  },
  "language_info": {
   "codemirror_mode": {
    "name": "ipython",
    "version": 3
   },
   "file_extension": ".py",
   "mimetype": "text/x-python",
   "name": "python",
   "nbconvert_exporter": "python",
   "pygments_lexer": "ipython3",
   "version": "3.6.3"
  }
 },
 "nbformat": 4,
 "nbformat_minor": 2
}
